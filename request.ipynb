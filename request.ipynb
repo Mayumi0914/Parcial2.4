{
 "cells": [
  {
   "cell_type": "code",
   "execution_count": 1,
   "metadata": {},
   "outputs": [],
   "source": [
    "import requests"
   ]
  },
  {
   "cell_type": "code",
   "execution_count": 10,
   "metadata": {},
   "outputs": [
    {
     "name": "stdout",
     "output_type": "stream",
     "text": [
      "200\n",
      "Clase: couch, Confianza: 0.70, Coordenadas: [141.0975341796875, 106.04634094238281, 201.15335083007812, 166.6976776123047]\n",
      "Clase: dining table, Confianza: 0.38, Coordenadas: [191.9792938232422, 95.03385162353516, 234.42967224121094, 135.5754852294922]\n",
      "Clase: couch, Confianza: 0.32, Coordenadas: [84.29478454589844, 94.12438201904297, 156.5535430908203, 148.0735626220703]\n",
      "Clase: dining table, Confianza: 0.32, Coordenadas: [171.47982788085938, 92.00037384033203, 235.0322723388672, 135.66513061523438]\n",
      "Clase: chair, Confianza: 0.31, Coordenadas: [222.75184631347656, 105.41681671142578, 248.25918579101562, 144.54510498046875]\n"
     ]
    }
   ],
   "source": [
    "import requests\n",
    "\n",
    "# Definir endpoint\n",
    "url = 'http://127.0.0.1:8050/upload-image'\n",
    "\n",
    "# Definir path de la imagen\n",
    "image_path = \"images.jpeg\"  \n",
    "files = {\"file\": open(image_path, \"rb\")}\n",
    "\n",
    "# Hacer la solicitud POST\n",
    "response = requests.post(url=url, files=files)\n",
    "\n",
    "# Verificar el código de estado y la respuesta\n",
    "print(response.status_code)\n",
    "if response.status_code == 200:\n",
    "    predictions = response.json()\n",
    "    for pred in predictions['predictions']:\n",
    "        print(f\"Clase: {pred['class_name']}, Confianza: {pred['confidence']:.2f}, Coordenadas: {pred['coordinates']}\")\n",
    "else:\n",
    "    print(\"Error en la solicitud:\", response.text)\n"
   ]
  }
 ],
 "metadata": {
  "kernelspec": {
   "display_name": "myenv",
   "language": "python",
   "name": "python3"
  },
  "language_info": {
   "codemirror_mode": {
    "name": "ipython",
    "version": 3
   },
   "file_extension": ".py",
   "mimetype": "text/x-python",
   "name": "python",
   "nbconvert_exporter": "python",
   "pygments_lexer": "ipython3",
   "version": "3.10.11"
  }
 },
 "nbformat": 4,
 "nbformat_minor": 2
}
